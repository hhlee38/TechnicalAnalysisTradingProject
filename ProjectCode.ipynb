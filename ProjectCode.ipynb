{
 "cells": [
  {
   "cell_type": "code",
   "execution_count": 1,
   "metadata": {},
   "outputs": [],
   "source": [
    "import numpy as np\n",
    "import pandas as pd\n",
    "import matplotlib.pyplot as plt\n",
    "import seaborn as sns\n",
    "import itertools as it\n",
    "\n",
    "import yfinance as yf\n",
    "import ta as ta\n",
    "import empyrical as ep\n",
    "\n",
    "import statsmodels.formula.api as smf\n",
    "from sklearn import preprocessing\n",
    "mm_scaler = preprocessing.MinMaxScaler()\n",
    "\n",
    "import warnings\n",
    "warnings.filterwarnings(\"ignore\")"
   ]
  },
  {
   "cell_type": "markdown",
   "metadata": {},
   "source": [
    "### Get List of NASDAQ-100 Companies and Tickers"
   ]
  },
  {
   "cell_type": "code",
   "execution_count": 2,
   "metadata": {},
   "outputs": [],
   "source": [
    "table = pd.read_html('https://en.wikipedia.org/wiki/NASDAQ-100')[3]"
   ]
  },
  {
   "cell_type": "markdown",
   "metadata": {},
   "source": [
    "### Only Keep Class A for Companies with Multiple Classes"
   ]
  },
  {
   "cell_type": "code",
   "execution_count": 44,
   "metadata": {},
   "outputs": [],
   "source": [
    "multiclass = table[table.Company.str.contains(\"Class\")]\n",
    "drop_index = multiclass[multiclass.Company.str[-9:] != \"(Class A)\"].index\n",
    "table.drop(drop_index,axis=0,inplace=True)\n",
    "table.to_csv(\"Data/Tickers_11_24_2020.csv\")"
   ]
  },
  {
   "cell_type": "markdown",
   "metadata": {},
   "source": [
    "### Saved Tickerlist from November 19, 2020"
   ]
  },
  {
   "cell_type": "code",
   "execution_count": 4,
   "metadata": {},
   "outputs": [],
   "source": [
    "tickerlist = list(pd.read_csv(\"Tickers_11_24_2020.csv\",index_col=0).Ticker)"
   ]
  },
  {
   "cell_type": "markdown",
   "metadata": {},
   "source": [
    "### Download Data Using Yahoo Finance"
   ]
  },
  {
   "cell_type": "code",
   "execution_count": 5,
   "metadata": {},
   "outputs": [],
   "source": [
    "start = \"2010-01-01\"\n",
    "\n",
    "def download_data(tickerlist,start_date):\n",
    "    data = yf.download(tickerlist,start=start_date,group_by=\"ticker\",auto_adjust = True)\n",
    "    data.to_csv(\"Data/NASDAQ100_data.csv\")\n",
    "    \n",
    "# download_data(tickerlist,start)"
   ]
  },
  {
   "cell_type": "code",
   "execution_count": 6,
   "metadata": {},
   "outputs": [],
   "source": [
    "def read_data_csv(filename):\n",
    "    \"\"\"\n",
    "    CSV file saved with multi-index columns (layer 1: ticker, layer 2: [Open, High, Low, Close, Adj Close, Volume])\n",
    "    \"\"\"    \n",
    "    read_data = pd.read_csv(filename,header=[0, 1],index_col=0)\n",
    "    read_data.index = pd.DatetimeIndex(read_data.index)\n",
    "    return read_data"
   ]
  },
  {
   "cell_type": "code",
   "execution_count": 7,
   "metadata": {},
   "outputs": [],
   "source": [
    "all_data = read_data_csv(\"Data/NASDAQ100_data.csv\")"
   ]
  },
  {
   "cell_type": "markdown",
   "metadata": {},
   "source": [
    "### Find First Date for Each Ticker; Remove Tickers that Do Not Start in 2010 - 01 - 04"
   ]
  },
  {
   "cell_type": "code",
   "execution_count": 8,
   "metadata": {},
   "outputs": [],
   "source": [
    "first_dates = []\n",
    "for ticker in tickerlist:\n",
    "    first_dates.append(all_data[(ticker,\"Close\")].dropna().index[0])\n",
    "first_dates = pd.DataFrame(first_dates,index=tickerlist,columns=[\"FirstDate\"])\n",
    "tickerlist = list(first_dates[first_dates.FirstDate==\"2010-01-04\"].index)"
   ]
  },
  {
   "cell_type": "code",
   "execution_count": 9,
   "metadata": {},
   "outputs": [
    {
     "data": {
      "text/html": [
       "<div>\n",
       "<style scoped>\n",
       "    .dataframe tbody tr th:only-of-type {\n",
       "        vertical-align: middle;\n",
       "    }\n",
       "\n",
       "    .dataframe tbody tr th {\n",
       "        vertical-align: top;\n",
       "    }\n",
       "\n",
       "    .dataframe thead th {\n",
       "        text-align: right;\n",
       "    }\n",
       "</style>\n",
       "<table border=\"1\" class=\"dataframe\">\n",
       "  <thead>\n",
       "    <tr style=\"text-align: right;\">\n",
       "      <th></th>\n",
       "      <th>Open</th>\n",
       "      <th>High</th>\n",
       "      <th>Low</th>\n",
       "      <th>Close</th>\n",
       "      <th>Volume</th>\n",
       "    </tr>\n",
       "    <tr>\n",
       "      <th>Date</th>\n",
       "      <th></th>\n",
       "      <th></th>\n",
       "      <th></th>\n",
       "      <th></th>\n",
       "      <th></th>\n",
       "    </tr>\n",
       "  </thead>\n",
       "  <tbody>\n",
       "    <tr>\n",
       "      <th>2010-01-04</th>\n",
       "      <td>6.522158</td>\n",
       "      <td>6.554855</td>\n",
       "      <td>6.490071</td>\n",
       "      <td>6.539882</td>\n",
       "      <td>493729600.0</td>\n",
       "    </tr>\n",
       "    <tr>\n",
       "      <th>2010-01-05</th>\n",
       "      <td>6.557910</td>\n",
       "      <td>6.588163</td>\n",
       "      <td>6.516656</td>\n",
       "      <td>6.551187</td>\n",
       "      <td>601904800.0</td>\n",
       "    </tr>\n",
       "    <tr>\n",
       "      <th>2010-01-06</th>\n",
       "      <td>6.551189</td>\n",
       "      <td>6.577164</td>\n",
       "      <td>6.440261</td>\n",
       "      <td>6.446983</td>\n",
       "      <td>552160000.0</td>\n",
       "    </tr>\n",
       "    <tr>\n",
       "      <th>2010-01-07</th>\n",
       "      <td>6.470819</td>\n",
       "      <td>6.478459</td>\n",
       "      <td>6.388311</td>\n",
       "      <td>6.435065</td>\n",
       "      <td>477131200.0</td>\n",
       "    </tr>\n",
       "    <tr>\n",
       "      <th>2010-01-08</th>\n",
       "      <td>6.426508</td>\n",
       "      <td>6.478458</td>\n",
       "      <td>6.388615</td>\n",
       "      <td>6.477847</td>\n",
       "      <td>447610800.0</td>\n",
       "    </tr>\n",
       "    <tr>\n",
       "      <th>...</th>\n",
       "      <td>...</td>\n",
       "      <td>...</td>\n",
       "      <td>...</td>\n",
       "      <td>...</td>\n",
       "      <td>...</td>\n",
       "    </tr>\n",
       "    <tr>\n",
       "      <th>2020-11-18</th>\n",
       "      <td>118.610001</td>\n",
       "      <td>119.820000</td>\n",
       "      <td>118.000000</td>\n",
       "      <td>118.029999</td>\n",
       "      <td>76322100.0</td>\n",
       "    </tr>\n",
       "    <tr>\n",
       "      <th>2020-11-19</th>\n",
       "      <td>117.589996</td>\n",
       "      <td>119.059998</td>\n",
       "      <td>116.809998</td>\n",
       "      <td>118.639999</td>\n",
       "      <td>74113000.0</td>\n",
       "    </tr>\n",
       "    <tr>\n",
       "      <th>2020-11-20</th>\n",
       "      <td>118.639999</td>\n",
       "      <td>118.769997</td>\n",
       "      <td>117.290001</td>\n",
       "      <td>117.339996</td>\n",
       "      <td>73391400.0</td>\n",
       "    </tr>\n",
       "    <tr>\n",
       "      <th>2020-11-23</th>\n",
       "      <td>117.180000</td>\n",
       "      <td>117.620003</td>\n",
       "      <td>113.750000</td>\n",
       "      <td>113.849998</td>\n",
       "      <td>127959300.0</td>\n",
       "    </tr>\n",
       "    <tr>\n",
       "      <th>2020-11-24</th>\n",
       "      <td>113.910004</td>\n",
       "      <td>115.849998</td>\n",
       "      <td>112.589996</td>\n",
       "      <td>115.169998</td>\n",
       "      <td>113585600.0</td>\n",
       "    </tr>\n",
       "  </tbody>\n",
       "</table>\n",
       "<p>2746 rows × 5 columns</p>\n",
       "</div>"
      ],
      "text/plain": [
       "                  Open        High         Low       Close       Volume\n",
       "Date                                                                   \n",
       "2010-01-04    6.522158    6.554855    6.490071    6.539882  493729600.0\n",
       "2010-01-05    6.557910    6.588163    6.516656    6.551187  601904800.0\n",
       "2010-01-06    6.551189    6.577164    6.440261    6.446983  552160000.0\n",
       "2010-01-07    6.470819    6.478459    6.388311    6.435065  477131200.0\n",
       "2010-01-08    6.426508    6.478458    6.388615    6.477847  447610800.0\n",
       "...                ...         ...         ...         ...          ...\n",
       "2020-11-18  118.610001  119.820000  118.000000  118.029999   76322100.0\n",
       "2020-11-19  117.589996  119.059998  116.809998  118.639999   74113000.0\n",
       "2020-11-20  118.639999  118.769997  117.290001  117.339996   73391400.0\n",
       "2020-11-23  117.180000  117.620003  113.750000  113.849998  127959300.0\n",
       "2020-11-24  113.910004  115.849998  112.589996  115.169998  113585600.0\n",
       "\n",
       "[2746 rows x 5 columns]"
      ]
     },
     "execution_count": 9,
     "metadata": {},
     "output_type": "execute_result"
    }
   ],
   "source": [
    "def get_data(ticker,all_data=all_data):\n",
    "    temp = all_data[ticker].copy()\n",
    "    return temp\n",
    "\n",
    "get_data(\"AAPL\")"
   ]
  },
  {
   "cell_type": "markdown",
   "metadata": {},
   "source": [
    "## Factor Calculation and Selection"
   ]
  },
  {
   "cell_type": "markdown",
   "metadata": {},
   "source": [
    "https://technical-analysis-library-in-python.readthedocs.io/en/latest/"
   ]
  },
  {
   "cell_type": "code",
   "execution_count": 10,
   "metadata": {},
   "outputs": [],
   "source": [
    "def calc_all_factors(df):\n",
    "    data = df.copy().dropna()\n",
    "    Close = data[\"Close\"]\n",
    "    High = data[\"High\"]\n",
    "    Low = data[\"Low\"]\n",
    "    Open = data[\"Open\"]\n",
    "    Volume = data[\"Volume\"]\n",
    "\n",
    "    df = pd.DataFrame(index=data.index)\n",
    "    # Momentum Indicators\n",
    "    df[\"AO\"] = ta.momentum.awesome_oscillator(High, Low, window1=5, window2=34)\n",
    "    df[\"KAMA\"] = ta.momentum.kama(Close,10,2,30)\n",
    "    df[\"PPO\"] = ta.momentum.ppo_signal(Close,26,12,9)\n",
    "    df[\"RSI\"] = ta.momentum.rsi(Close,14)\n",
    "    df[\"SO\"] = ta.momentum.stoch_signal(Close,High,Low,14,3)\n",
    "\n",
    "    # Volume Indicators\n",
    "    df[\"ADI\"] = ta.volume.acc_dist_index(High, Low, Close, Volume)\n",
    "    df[\"CMF\"] = ta.volume.chaikin_money_flow(High,Low,Close,Volume,14)\n",
    "    df[\"EoM\"] = ta.volume.ease_of_movement(High, Low, Volume,14)\n",
    "    df[\"FI\"] = ta.volume.force_index(Close, Volume, 13)\n",
    "    df[\"OBV\"] = ta.volume.on_balance_volume(Close,Volume)\n",
    "\n",
    "    # Volatility Indicators\n",
    "    df[\"UI\"] = ta.volatility.ulcer_index(Close,14) # Ulcer Index\n",
    "    df[\"ATR\"] = ta.volatility.average_true_range(High,Low,Close,14) # Average True Range\n",
    "    df[\"BB\"] = ta.volatility.bollinger_pband(Close,20,2) # Bollinger Band Percentage Band\n",
    "    df[\"DC\"] = ta.volatility.donchian_channel_pband(High,Low,Close,10,0) # Donchian Channel Percentage Band\n",
    "    df[\"KC\"] = ta.volatility.keltner_channel_pband(High,Low,Close,20,10)\n",
    "\n",
    "\n",
    "    # Trend Indicator\n",
    "    df[\"ADX\"] = ta.trend.adx(High,Low,Close,14)\n",
    "    df[\"CCI\"] = ta.trend.cci(High, Low, Close,20,0.015)\n",
    "    df[\"DPO\"] = ta.trend.dpo(Close,20)\n",
    "    df[\"MACD\"] = ta.trend.macd_diff(Close,12,26,9) # MACD - MACD Signal\n",
    "    df[\"MI\"] = ta.trend.mass_index(High, Low,9,25)\n",
    "    df[\"ForwardReturns\"] = (Close.pct_change().shift(-1))\n",
    "    df[\"Close\"] = Close\n",
    "    df.dropna(inplace=True)\n",
    "    df.iloc[:,:20] = mm_scaler.fit_transform(df.iloc[:,:20])\n",
    "    return df"
   ]
  },
  {
   "cell_type": "code",
   "execution_count": 11,
   "metadata": {},
   "outputs": [],
   "source": [
    "def IndicatorVsPricePlot(df,indicator,plot_dates):\n",
    "    sns.set()\n",
    "    fig,ax = plt.subplots(facecolor = \"white\",figsize=(15,10))\n",
    "    ax = plt.subplot2grid((12,10), (0,0), rowspan=10, colspan=10)\n",
    "    ax.plot(df[plot_dates[0]:plot_dates[1]][\"Close\"],color=\"black\")\n",
    "    ax.set_xlabel(\"Date\",fontsize=14)\n",
    "    ax.set_ylabel(\"Close Price\",color=\"black\",fontsize=14)\n",
    "    ax.tick_params(axis='x',labelsize=14)\n",
    "    ax.tick_params(axis='y',labelsize=14)\n",
    "    ax.grid(False)\n",
    "    ax2 = ax.twinx()\n",
    "    ax2.plot(df[plot_dates[0]:plot_dates[1]][indicator],color=\"red\")\n",
    "    ax2.set_ylabel(indicator,color=\"red\",fontsize=14)\n",
    "    ax2.tick_params(axis='y',labelsize=14)\n",
    "    ax2.grid(False)\n",
    "#     plt.title(\"Average True Range\",fontsize=20)"
   ]
  },
  {
   "cell_type": "code",
   "execution_count": 12,
   "metadata": {
    "scrolled": false
   },
   "outputs": [
    {
     "data": {
      "image/png": "[encoded data removed]",
      "text/plain": [
       "<Figure size 1080x720 with 2 Axes>"
      ]
     },
     "metadata": {},
     "output_type": "display_data"
    }
   ],
   "source": [
    "df = calc_all_factors(get_data(\"AAPL\"))\n",
    "plot_dates = (\"2019-01-01\",\"2020-01-01\")\n",
    "IndicatorVsPricePlot(df,\"MACD\",plot_dates)"
   ]
  },
  {
   "cell_type": "markdown",
   "metadata": {},
   "source": [
    "### Calculate All Factors for All Stocks for Initial Factor Analysis and Selection"
   ]
  },
  {
   "cell_type": "code",
   "execution_count": 13,
   "metadata": {},
   "outputs": [],
   "source": [
    "data = {}\n",
    "for ticker in tickerlist:\n",
    "    temp = calc_all_factors(get_data(ticker))\n",
    "    data[ticker] = temp[\"2010\":\"2015\"]\n",
    "\n",
    "all_factors = data[\"AAPL\"].columns[:20]"
   ]
  },
  {
   "cell_type": "code",
   "execution_count": 14,
   "metadata": {},
   "outputs": [],
   "source": [
    "tickerlist = []\n",
    "for i in data.keys():\n",
    "    if data[i].shape==data[\"AAPL\"].shape:\n",
    "        tickerlist.append(i)\n",
    "pd.DataFrame(tickerlist).to_csv(\"Data/AllTickers.csv\")"
   ]
  },
  {
   "cell_type": "code",
   "execution_count": 15,
   "metadata": {},
   "outputs": [],
   "source": [
    "def combine_factors(factors,data,tickerlist):\n",
    "    n = len(tickerlist)\n",
    "    f = len(factors)\n",
    "    t = len(data[tickerlist[0]])\n",
    "    X = np.zeros((t*n,f))\n",
    "    Y = np.zeros((t*n,1))\n",
    "    for i in range(n):\n",
    "        X[i*t:i*t+t,:] = data[tickerlist[i]][factors].values\n",
    "        Y[i*t:i*t+t,:] = data[tickerlist[i]][[\"ForwardReturns\"]].values\n",
    "    X = pd.DataFrame(X,columns=factors)\n",
    "    X[\"ForwardReturns\"] = Y\n",
    "    return X\n",
    "\n",
    "def get_all_combinations(fa):\n",
    "    combos = []\n",
    "    for i in range(0,5):\n",
    "        for j in range(5,10):\n",
    "            for k in range(10,15):\n",
    "                for l in range(15,20):\n",
    "                    combos.append([fa[i],fa[j],fa[k],fa[l]])\n",
    "    return combos\n",
    "all_combos = get_all_combinations(all_factors)"
   ]
  },
  {
   "cell_type": "code",
   "execution_count": 16,
   "metadata": {},
   "outputs": [],
   "source": [
    "df_fac = combine_factors(all_factors,data,tickerlist)\n",
    "corr = df_fac.corr()\n",
    "corr.to_csv(\"Data/correlation.csv\")"
   ]
  },
  {
   "cell_type": "code",
   "execution_count": 17,
   "metadata": {},
   "outputs": [],
   "source": [
    "def factorComboAnalysis(all_combos,corr):\n",
    "    temp = []\n",
    "    for combo in all_combos:\n",
    "        interFacCorr = []\n",
    "        facRetCorr = [] \n",
    "        for i in range(4):\n",
    "            facRetCorr.append(corr.loc[combo[i],\"ForwardReturns\"])\n",
    "            for j in range(i+1,4):\n",
    "                interFacCorr.append(corr.loc[combo[i],combo[j]])\n",
    "        aveRet = np.mean(np.abs(facRetCorr))\n",
    "        aveFac = np.mean(np.abs(interFacCorr))\n",
    "        maxFac = np.max(np.abs(interFacCorr))\n",
    "        temp.append([combo,aveFac,maxFac,aveRet])\n",
    "\n",
    "    analysis = pd.DataFrame(temp,columns=[\"Combo\",\"AverageInterFactorCorr\",\"MaxInterFactorCorr\",\"AverageFactorReturnCorr\"])\n",
    "    return analysis"
   ]
  },
  {
   "cell_type": "code",
   "execution_count": 18,
   "metadata": {},
   "outputs": [
    {
     "data": {
      "text/html": [
       "<div>\n",
       "<style scoped>\n",
       "    .dataframe tbody tr th:only-of-type {\n",
       "        vertical-align: middle;\n",
       "    }\n",
       "\n",
       "    .dataframe tbody tr th {\n",
       "        vertical-align: top;\n",
       "    }\n",
       "\n",
       "    .dataframe thead th {\n",
       "        text-align: right;\n",
       "    }\n",
       "</style>\n",
       "<table border=\"1\" class=\"dataframe\">\n",
       "  <thead>\n",
       "    <tr style=\"text-align: right;\">\n",
       "      <th></th>\n",
       "      <th>AverageInterFactorCorr</th>\n",
       "      <th>MaxInterFactorCorr</th>\n",
       "      <th>AverageFactorReturnCorr</th>\n",
       "    </tr>\n",
       "  </thead>\n",
       "  <tbody>\n",
       "    <tr>\n",
       "      <th>mean</th>\n",
       "      <td>0.207175</td>\n",
       "      <td>0.560857</td>\n",
       "      <td>0.016541</td>\n",
       "    </tr>\n",
       "    <tr>\n",
       "      <th>min</th>\n",
       "      <td>0.032314</td>\n",
       "      <td>0.051359</td>\n",
       "      <td>0.006218</td>\n",
       "    </tr>\n",
       "    <tr>\n",
       "      <th>max</th>\n",
       "      <td>0.694061</td>\n",
       "      <td>0.925030</td>\n",
       "      <td>0.026345</td>\n",
       "    </tr>\n",
       "  </tbody>\n",
       "</table>\n",
       "</div>"
      ],
      "text/plain": [
       "      AverageInterFactorCorr  MaxInterFactorCorr  AverageFactorReturnCorr\n",
       "mean                0.207175            0.560857                 0.016541\n",
       "min                 0.032314            0.051359                 0.006218\n",
       "max                 0.694061            0.925030                 0.026345"
      ]
     },
     "execution_count": 18,
     "metadata": {},
     "output_type": "execute_result"
    }
   ],
   "source": [
    "analysis1 = factorComboAnalysis(all_combos,corr)\n",
    "desc1 = analysis1.iloc[:,1:].describe()\n",
    "desc1.loc[[\"mean\",\"min\",\"max\"],:]"
   ]
  },
  {
   "cell_type": "code",
   "execution_count": 19,
   "metadata": {},
   "outputs": [
    {
     "data": {
      "text/html": [
       "<div>\n",
       "<style scoped>\n",
       "    .dataframe tbody tr th:only-of-type {\n",
       "        vertical-align: middle;\n",
       "    }\n",
       "\n",
       "    .dataframe tbody tr th {\n",
       "        vertical-align: top;\n",
       "    }\n",
       "\n",
       "    .dataframe thead th {\n",
       "        text-align: right;\n",
       "    }\n",
       "</style>\n",
       "<table border=\"1\" class=\"dataframe\">\n",
       "  <thead>\n",
       "    <tr style=\"text-align: right;\">\n",
       "      <th></th>\n",
       "      <th>Combo</th>\n",
       "      <th>AverageInterFactorCorr</th>\n",
       "      <th>MaxInterFactorCorr</th>\n",
       "      <th>AverageFactorReturnCorr</th>\n",
       "    </tr>\n",
       "  </thead>\n",
       "  <tbody>\n",
       "    <tr>\n",
       "      <th>219</th>\n",
       "      <td>[KAMA, FI, DC, MI]</td>\n",
       "      <td>0.035101</td>\n",
       "      <td>0.098727</td>\n",
       "      <td>0.015066</td>\n",
       "    </tr>\n",
       "    <tr>\n",
       "      <th>214</th>\n",
       "      <td>[KAMA, FI, BB, MI]</td>\n",
       "      <td>0.049149</td>\n",
       "      <td>0.142030</td>\n",
       "      <td>0.014282</td>\n",
       "    </tr>\n",
       "    <tr>\n",
       "      <th>194</th>\n",
       "      <td>[KAMA, EoM, DC, MI]</td>\n",
       "      <td>0.035353</td>\n",
       "      <td>0.063842</td>\n",
       "      <td>0.014046</td>\n",
       "    </tr>\n",
       "    <tr>\n",
       "      <th>215</th>\n",
       "      <td>[KAMA, FI, DC, ADX]</td>\n",
       "      <td>0.036233</td>\n",
       "      <td>0.098727</td>\n",
       "      <td>0.013753</td>\n",
       "    </tr>\n",
       "    <tr>\n",
       "      <th>189</th>\n",
       "      <td>[KAMA, EoM, BB, MI]</td>\n",
       "      <td>0.044188</td>\n",
       "      <td>0.064521</td>\n",
       "      <td>0.013262</td>\n",
       "    </tr>\n",
       "    <tr>\n",
       "      <th>210</th>\n",
       "      <td>[KAMA, FI, BB, ADX]</td>\n",
       "      <td>0.046973</td>\n",
       "      <td>0.142030</td>\n",
       "      <td>0.012968</td>\n",
       "    </tr>\n",
       "    <tr>\n",
       "      <th>199</th>\n",
       "      <td>[KAMA, EoM, KC, MI]</td>\n",
       "      <td>0.047555</td>\n",
       "      <td>0.072192</td>\n",
       "      <td>0.012960</td>\n",
       "    </tr>\n",
       "    <tr>\n",
       "      <th>190</th>\n",
       "      <td>[KAMA, EoM, DC, ADX]</td>\n",
       "      <td>0.032314</td>\n",
       "      <td>0.051359</td>\n",
       "      <td>0.012733</td>\n",
       "    </tr>\n",
       "    <tr>\n",
       "      <th>185</th>\n",
       "      <td>[KAMA, EoM, BB, ADX]</td>\n",
       "      <td>0.037843</td>\n",
       "      <td>0.074041</td>\n",
       "      <td>0.011949</td>\n",
       "    </tr>\n",
       "    <tr>\n",
       "      <th>175</th>\n",
       "      <td>[KAMA, EoM, UI, ADX]</td>\n",
       "      <td>0.038385</td>\n",
       "      <td>0.051900</td>\n",
       "      <td>0.010702</td>\n",
       "    </tr>\n",
       "  </tbody>\n",
       "</table>\n",
       "</div>"
      ],
      "text/plain": [
       "                    Combo  AverageInterFactorCorr  MaxInterFactorCorr  \\\n",
       "219    [KAMA, FI, DC, MI]                0.035101            0.098727   \n",
       "214    [KAMA, FI, BB, MI]                0.049149            0.142030   \n",
       "194   [KAMA, EoM, DC, MI]                0.035353            0.063842   \n",
       "215   [KAMA, FI, DC, ADX]                0.036233            0.098727   \n",
       "189   [KAMA, EoM, BB, MI]                0.044188            0.064521   \n",
       "210   [KAMA, FI, BB, ADX]                0.046973            0.142030   \n",
       "199   [KAMA, EoM, KC, MI]                0.047555            0.072192   \n",
       "190  [KAMA, EoM, DC, ADX]                0.032314            0.051359   \n",
       "185  [KAMA, EoM, BB, ADX]                0.037843            0.074041   \n",
       "175  [KAMA, EoM, UI, ADX]                0.038385            0.051900   \n",
       "\n",
       "     AverageFactorReturnCorr  \n",
       "219                 0.015066  \n",
       "214                 0.014282  \n",
       "194                 0.014046  \n",
       "215                 0.013753  \n",
       "189                 0.013262  \n",
       "210                 0.012968  \n",
       "199                 0.012960  \n",
       "190                 0.012733  \n",
       "185                 0.011949  \n",
       "175                 0.010702  "
      ]
     },
     "execution_count": 19,
     "metadata": {},
     "output_type": "execute_result"
    }
   ],
   "source": [
    "lim1 = 0.05\n",
    "lim2 = 0.15\n",
    "analysis1[(analysis1.AverageInterFactorCorr<lim1) & \n",
    "          (analysis1.MaxInterFactorCorr<lim2)].sort_values(\"AverageFactorReturnCorr\",ascending=False).head(30)"
   ]
  },
  {
   "cell_type": "code",
   "execution_count": 20,
   "metadata": {},
   "outputs": [
    {
     "data": {
      "text/html": [
       "<div>\n",
       "<style scoped>\n",
       "    .dataframe tbody tr th:only-of-type {\n",
       "        vertical-align: middle;\n",
       "    }\n",
       "\n",
       "    .dataframe tbody tr th {\n",
       "        vertical-align: top;\n",
       "    }\n",
       "\n",
       "    .dataframe thead th {\n",
       "        text-align: right;\n",
       "    }\n",
       "</style>\n",
       "<table border=\"1\" class=\"dataframe\">\n",
       "  <thead>\n",
       "    <tr style=\"text-align: right;\">\n",
       "      <th></th>\n",
       "      <th>AO</th>\n",
       "      <th>KAMA</th>\n",
       "      <th>PPO</th>\n",
       "      <th>RSI</th>\n",
       "      <th>SO</th>\n",
       "      <th>ForwardReturns</th>\n",
       "    </tr>\n",
       "  </thead>\n",
       "  <tbody>\n",
       "    <tr>\n",
       "      <th>AO</th>\n",
       "      <td>1.000000</td>\n",
       "      <td>0.141224</td>\n",
       "      <td>0.613518</td>\n",
       "      <td>0.356250</td>\n",
       "      <td>0.304564</td>\n",
       "      <td>-0.017206</td>\n",
       "    </tr>\n",
       "    <tr>\n",
       "      <th>KAMA</th>\n",
       "      <td>0.141224</td>\n",
       "      <td>1.000000</td>\n",
       "      <td>0.009865</td>\n",
       "      <td>0.023112</td>\n",
       "      <td>-0.030874</td>\n",
       "      <td>-0.017393</td>\n",
       "    </tr>\n",
       "    <tr>\n",
       "      <th>PPO</th>\n",
       "      <td>0.613518</td>\n",
       "      <td>0.009865</td>\n",
       "      <td>1.000000</td>\n",
       "      <td>0.610209</td>\n",
       "      <td>0.318087</td>\n",
       "      <td>-0.018245</td>\n",
       "    </tr>\n",
       "    <tr>\n",
       "      <th>RSI</th>\n",
       "      <td>0.356250</td>\n",
       "      <td>0.023112</td>\n",
       "      <td>0.610209</td>\n",
       "      <td>1.000000</td>\n",
       "      <td>0.653062</td>\n",
       "      <td>-0.029399</td>\n",
       "    </tr>\n",
       "    <tr>\n",
       "      <th>SO</th>\n",
       "      <td>0.304564</td>\n",
       "      <td>-0.030874</td>\n",
       "      <td>0.318087</td>\n",
       "      <td>0.653062</td>\n",
       "      <td>1.000000</td>\n",
       "      <td>-0.023066</td>\n",
       "    </tr>\n",
       "    <tr>\n",
       "      <th>ForwardReturns</th>\n",
       "      <td>-0.017206</td>\n",
       "      <td>-0.017393</td>\n",
       "      <td>-0.018245</td>\n",
       "      <td>-0.029399</td>\n",
       "      <td>-0.023066</td>\n",
       "      <td>1.000000</td>\n",
       "    </tr>\n",
       "  </tbody>\n",
       "</table>\n",
       "</div>"
      ],
      "text/plain": [
       "                      AO      KAMA       PPO       RSI        SO  \\\n",
       "AO              1.000000  0.141224  0.613518  0.356250  0.304564   \n",
       "KAMA            0.141224  1.000000  0.009865  0.023112 -0.030874   \n",
       "PPO             0.613518  0.009865  1.000000  0.610209  0.318087   \n",
       "RSI             0.356250  0.023112  0.610209  1.000000  0.653062   \n",
       "SO              0.304564 -0.030874  0.318087  0.653062  1.000000   \n",
       "ForwardReturns -0.017206 -0.017393 -0.018245 -0.029399 -0.023066   \n",
       "\n",
       "                ForwardReturns  \n",
       "AO                   -0.017206  \n",
       "KAMA                 -0.017393  \n",
       "PPO                  -0.018245  \n",
       "RSI                  -0.029399  \n",
       "SO                   -0.023066  \n",
       "ForwardReturns        1.000000  "
      ]
     },
     "execution_count": 20,
     "metadata": {},
     "output_type": "execute_result"
    }
   ],
   "source": [
    "momentum = corr.iloc[pd.np.r_[0:5,20],pd.np.r_[0:5,20]]\n",
    "momentum"
   ]
  },
  {
   "cell_type": "code",
   "execution_count": 21,
   "metadata": {},
   "outputs": [
    {
     "data": {
      "text/html": [
       "<div>\n",
       "<style scoped>\n",
       "    .dataframe tbody tr th:only-of-type {\n",
       "        vertical-align: middle;\n",
       "    }\n",
       "\n",
       "    .dataframe tbody tr th {\n",
       "        vertical-align: top;\n",
       "    }\n",
       "\n",
       "    .dataframe thead th {\n",
       "        text-align: right;\n",
       "    }\n",
       "</style>\n",
       "<table border=\"1\" class=\"dataframe\">\n",
       "  <thead>\n",
       "    <tr style=\"text-align: right;\">\n",
       "      <th></th>\n",
       "      <th>KAMA</th>\n",
       "      <th>FI</th>\n",
       "      <th>DC</th>\n",
       "      <th>MI</th>\n",
       "      <th>ForwardReturns</th>\n",
       "    </tr>\n",
       "  </thead>\n",
       "  <tbody>\n",
       "    <tr>\n",
       "      <th>KAMA</th>\n",
       "      <td>1.000000</td>\n",
       "      <td>0.021853</td>\n",
       "      <td>-0.008330</td>\n",
       "      <td>0.049592</td>\n",
       "      <td>-0.017393</td>\n",
       "    </tr>\n",
       "    <tr>\n",
       "      <th>FI</th>\n",
       "      <td>0.021853</td>\n",
       "      <td>1.000000</td>\n",
       "      <td>0.098727</td>\n",
       "      <td>-0.010105</td>\n",
       "      <td>-0.006963</td>\n",
       "    </tr>\n",
       "    <tr>\n",
       "      <th>DC</th>\n",
       "      <td>-0.008330</td>\n",
       "      <td>0.098727</td>\n",
       "      <td>1.000000</td>\n",
       "      <td>-0.021999</td>\n",
       "      <td>-0.029698</td>\n",
       "    </tr>\n",
       "    <tr>\n",
       "      <th>MI</th>\n",
       "      <td>0.049592</td>\n",
       "      <td>-0.010105</td>\n",
       "      <td>-0.021999</td>\n",
       "      <td>1.000000</td>\n",
       "      <td>0.006210</td>\n",
       "    </tr>\n",
       "    <tr>\n",
       "      <th>ForwardReturns</th>\n",
       "      <td>-0.017393</td>\n",
       "      <td>-0.006963</td>\n",
       "      <td>-0.029698</td>\n",
       "      <td>0.006210</td>\n",
       "      <td>1.000000</td>\n",
       "    </tr>\n",
       "  </tbody>\n",
       "</table>\n",
       "</div>"
      ],
      "text/plain": [
       "                    KAMA        FI        DC        MI  ForwardReturns\n",
       "KAMA            1.000000  0.021853 -0.008330  0.049592       -0.017393\n",
       "FI              0.021853  1.000000  0.098727 -0.010105       -0.006963\n",
       "DC             -0.008330  0.098727  1.000000 -0.021999       -0.029698\n",
       "MI              0.049592 -0.010105 -0.021999  1.000000        0.006210\n",
       "ForwardReturns -0.017393 -0.006963 -0.029698  0.006210        1.000000"
      ]
     },
     "execution_count": 21,
     "metadata": {},
     "output_type": "execute_result"
    }
   ],
   "source": [
    "corr.loc[[\"KAMA\", \"FI\", \"DC\", \"MI\",\"ForwardReturns\"],[\"KAMA\", \"FI\", \"DC\", \"MI\",\"ForwardReturns\"]]"
   ]
  },
  {
   "cell_type": "markdown",
   "metadata": {},
   "source": [
    "## Signal Creation"
   ]
  },
  {
   "cell_type": "code",
   "execution_count": 24,
   "metadata": {},
   "outputs": [],
   "source": [
    "def calc_final_factors(df):\n",
    "    data = df.copy().dropna()\n",
    "    Close = data[\"Close\"]\n",
    "    High = data[\"High\"]\n",
    "    Low = data[\"Low\"]\n",
    "    Volume = data[\"Volume\"]\n",
    "\n",
    "    df = pd.DataFrame(index=data.index)\n",
    "\n",
    "    df[\"KAMA\"] = ta.momentum.kama(Close,10,2,30)\n",
    "    df[\"FI\"] = ta.volume.force_index(Close, Volume,13)\n",
    "    df[\"DC\"] = ta.volatility.donchian_channel_pband(High,Low,Close,10,0)\n",
    "    df[\"MI\"] = ta.trend.mass_index(High, Low,9,25)\n",
    "    df[\"ForwardReturns\"] = (Close.pct_change().shift(-1))\n",
    "    df.dropna(inplace=True)\n",
    "    df.iloc[:,:4] = mm_scaler.fit_transform(df.iloc[:,:4])\n",
    "    return df"
   ]
  },
  {
   "cell_type": "code",
   "execution_count": 25,
   "metadata": {},
   "outputs": [],
   "source": [
    "train = {}\n",
    "test = {}\n",
    "backtest = {}\n",
    "for ticker in tickerlist:\n",
    "    temp = calc_final_factors(get_data(ticker))\n",
    "    train[ticker] = temp[\"2010\":\"2015\"]\n",
    "    test[ticker] = temp[\"2016\":\"2017\"]\n",
    "    backtest[ticker] = temp[\"2018\":]"
   ]
  },
  {
   "cell_type": "code",
   "execution_count": 26,
   "metadata": {},
   "outputs": [
    {
     "data": {
      "text/html": [
       "<div>\n",
       "<style scoped>\n",
       "    .dataframe tbody tr th:only-of-type {\n",
       "        vertical-align: middle;\n",
       "    }\n",
       "\n",
       "    .dataframe tbody tr th {\n",
       "        vertical-align: top;\n",
       "    }\n",
       "\n",
       "    .dataframe thead th {\n",
       "        text-align: right;\n",
       "    }\n",
       "</style>\n",
       "<table border=\"1\" class=\"dataframe\">\n",
       "  <thead>\n",
       "    <tr style=\"text-align: right;\">\n",
       "      <th></th>\n",
       "      <th>KAMA</th>\n",
       "      <th>FI</th>\n",
       "      <th>DC</th>\n",
       "      <th>MI</th>\n",
       "      <th>ForwardReturns</th>\n",
       "    </tr>\n",
       "  </thead>\n",
       "  <tbody>\n",
       "    <tr>\n",
       "      <th>0</th>\n",
       "      <td>0.000000</td>\n",
       "      <td>0.485789</td>\n",
       "      <td>0.806451</td>\n",
       "      <td>0.377502</td>\n",
       "      <td>0.005469</td>\n",
       "    </tr>\n",
       "    <tr>\n",
       "      <th>1</th>\n",
       "      <td>0.000135</td>\n",
       "      <td>0.485109</td>\n",
       "      <td>0.903222</td>\n",
       "      <td>0.346688</td>\n",
       "      <td>0.000000</td>\n",
       "    </tr>\n",
       "    <tr>\n",
       "      <th>2</th>\n",
       "      <td>0.000336</td>\n",
       "      <td>0.483423</td>\n",
       "      <td>0.903222</td>\n",
       "      <td>0.320577</td>\n",
       "      <td>0.007253</td>\n",
       "    </tr>\n",
       "    <tr>\n",
       "      <th>3</th>\n",
       "      <td>0.001044</td>\n",
       "      <td>0.482888</td>\n",
       "      <td>0.984615</td>\n",
       "      <td>0.295066</td>\n",
       "      <td>0.000000</td>\n",
       "    </tr>\n",
       "    <tr>\n",
       "      <th>4</th>\n",
       "      <td>0.001965</td>\n",
       "      <td>0.481519</td>\n",
       "      <td>0.864864</td>\n",
       "      <td>0.282400</td>\n",
       "      <td>0.006301</td>\n",
       "    </tr>\n",
       "    <tr>\n",
       "      <th>...</th>\n",
       "      <td>...</td>\n",
       "      <td>...</td>\n",
       "      <td>...</td>\n",
       "      <td>...</td>\n",
       "      <td>...</td>\n",
       "    </tr>\n",
       "    <tr>\n",
       "      <th>119065</th>\n",
       "      <td>0.212416</td>\n",
       "      <td>0.592520</td>\n",
       "      <td>0.728646</td>\n",
       "      <td>0.462230</td>\n",
       "      <td>-0.001045</td>\n",
       "    </tr>\n",
       "    <tr>\n",
       "      <th>119066</th>\n",
       "      <td>0.212389</td>\n",
       "      <td>0.592587</td>\n",
       "      <td>0.703514</td>\n",
       "      <td>0.439394</td>\n",
       "      <td>0.007950</td>\n",
       "    </tr>\n",
       "    <tr>\n",
       "      <th>119067</th>\n",
       "      <td>0.212457</td>\n",
       "      <td>0.593263</td>\n",
       "      <td>0.835682</td>\n",
       "      <td>0.427358</td>\n",
       "      <td>-0.007057</td>\n",
       "    </tr>\n",
       "    <tr>\n",
       "      <th>119068</th>\n",
       "      <td>0.212449</td>\n",
       "      <td>0.592913</td>\n",
       "      <td>0.676053</td>\n",
       "      <td>0.407166</td>\n",
       "      <td>-0.018186</td>\n",
       "    </tr>\n",
       "    <tr>\n",
       "      <th>119069</th>\n",
       "      <td>0.212127</td>\n",
       "      <td>0.591953</td>\n",
       "      <td>0.267602</td>\n",
       "      <td>0.390040</td>\n",
       "      <td>-0.024909</td>\n",
       "    </tr>\n",
       "  </tbody>\n",
       "</table>\n",
       "<p>119070 rows × 5 columns</p>\n",
       "</div>"
      ],
      "text/plain": [
       "            KAMA        FI        DC        MI  ForwardReturns\n",
       "0       0.000000  0.485789  0.806451  0.377502        0.005469\n",
       "1       0.000135  0.485109  0.903222  0.346688        0.000000\n",
       "2       0.000336  0.483423  0.903222  0.320577        0.007253\n",
       "3       0.001044  0.482888  0.984615  0.295066        0.000000\n",
       "4       0.001965  0.481519  0.864864  0.282400        0.006301\n",
       "...          ...       ...       ...       ...             ...\n",
       "119065  0.212416  0.592520  0.728646  0.462230       -0.001045\n",
       "119066  0.212389  0.592587  0.703514  0.439394        0.007950\n",
       "119067  0.212457  0.593263  0.835682  0.427358       -0.007057\n",
       "119068  0.212449  0.592913  0.676053  0.407166       -0.018186\n",
       "119069  0.212127  0.591953  0.267602  0.390040       -0.024909\n",
       "\n",
       "[119070 rows x 5 columns]"
      ]
     },
     "execution_count": 26,
     "metadata": {},
     "output_type": "execute_result"
    }
   ],
   "source": [
    "finalFactors = [\"KAMA\", \"FI\", \"DC\", \"MI\"]\n",
    "dfTrain = combine_factors(finalFactors,train,tickerlist)\n",
    "dfTrain"
   ]
  },
  {
   "cell_type": "code",
   "execution_count": 27,
   "metadata": {},
   "outputs": [
    {
     "data": {
      "text/html": [
       "<table class=\"simpletable\">\n",
       "<tr>\n",
       "        <td>Model:</td>               <td>OLS</td>         <td>Adj. R-squared:</td>       <td>0.001</td>   \n",
       "</tr>\n",
       "<tr>\n",
       "  <td>Dependent Variable:</td>  <td>ForwardReturns</td>         <td>AIC:</td>         <td>-596533.1088</td>\n",
       "</tr>\n",
       "<tr>\n",
       "         <td>Date:</td>        <td>2020-12-12 22:30</td>        <td>BIC:</td>         <td>-596484.6715</td>\n",
       "</tr>\n",
       "<tr>\n",
       "   <td>No. Observations:</td>       <td>119070</td>        <td>Log-Likelihood:</td>    <td>2.9827e+05</td> \n",
       "</tr>\n",
       "<tr>\n",
       "       <td>Df Model:</td>              <td>4</td>           <td>F-statistic:</td>         <td>37.18</td>   \n",
       "</tr>\n",
       "<tr>\n",
       "     <td>Df Residuals:</td>         <td>119065</td>      <td>Prob (F-statistic):</td>   <td>4.01e-31</td>  \n",
       "</tr>\n",
       "<tr>\n",
       "      <td>R-squared:</td>            <td>0.001</td>            <td>Scale:</td>         <td>0.00039059</td> \n",
       "</tr>\n",
       "</table>\n",
       "<table class=\"simpletable\">\n",
       "<tr>\n",
       "      <td></td>       <th>Coef.</th>  <th>Std.Err.</th>     <th>t</th>     <th>P>|t|</th> <th>[0.025</th>  <th>0.975]</th> \n",
       "</tr>\n",
       "<tr>\n",
       "  <th>Intercept</th> <td>0.0023</td>   <td>0.0003</td>   <td>7.7509</td>  <td>0.0000</td> <td>0.0017</td>  <td>0.0028</td> \n",
       "</tr>\n",
       "<tr>\n",
       "  <th>KAMA</th>      <td>-0.0021</td>  <td>0.0003</td>   <td>-6.1628</td> <td>0.0000</td> <td>-0.0027</td> <td>-0.0014</td>\n",
       "</tr>\n",
       "<tr>\n",
       "  <th>FI</th>        <td>-0.0004</td>  <td>0.0003</td>   <td>-1.2400</td> <td>0.2150</td> <td>-0.0011</td> <td>0.0002</td> \n",
       "</tr>\n",
       "<tr>\n",
       "  <th>DC</th>        <td>-0.0019</td>  <td>0.0002</td>  <td>-10.0813</td> <td>0.0000</td> <td>-0.0023</td> <td>-0.0016</td>\n",
       "</tr>\n",
       "<tr>\n",
       "  <th>MI</th>        <td>0.0010</td>   <td>0.0004</td>   <td>2.2113</td>  <td>0.0270</td> <td>0.0001</td>  <td>0.0018</td> \n",
       "</tr>\n",
       "</table>\n",
       "<table class=\"simpletable\">\n",
       "<tr>\n",
       "     <td>Omnibus:</td>    <td>36611.291</td>  <td>Durbin-Watson:</td>      <td>1.987</td>   \n",
       "</tr>\n",
       "<tr>\n",
       "  <td>Prob(Omnibus):</td>   <td>0.000</td>   <td>Jarque-Bera (JB):</td> <td>2519288.922</td>\n",
       "</tr>\n",
       "<tr>\n",
       "       <td>Skew:</td>       <td>0.610</td>       <td>Prob(JB):</td>        <td>0.000</td>   \n",
       "</tr>\n",
       "<tr>\n",
       "     <td>Kurtosis:</td>    <td>25.501</td>    <td>Condition No.:</td>       <td>12</td>     \n",
       "</tr>\n",
       "</table>"
      ],
      "text/plain": [
       "<class 'statsmodels.iolib.summary2.Summary'>\n",
       "\"\"\"\n",
       "                   Results: Ordinary least squares\n",
       "=====================================================================\n",
       "Model:              OLS              Adj. R-squared:     0.001       \n",
       "Dependent Variable: ForwardReturns   AIC:                -596533.1088\n",
       "Date:               2020-12-12 22:30 BIC:                -596484.6715\n",
       "No. Observations:   119070           Log-Likelihood:     2.9827e+05  \n",
       "Df Model:           4                F-statistic:        37.18       \n",
       "Df Residuals:       119065           Prob (F-statistic): 4.01e-31    \n",
       "R-squared:          0.001            Scale:              0.00039059  \n",
       "-----------------------------------------------------------------------\n",
       "              Coef.    Std.Err.      t       P>|t|     [0.025    0.975]\n",
       "-----------------------------------------------------------------------\n",
       "Intercept     0.0023     0.0003     7.7509   0.0000    0.0017    0.0028\n",
       "KAMA         -0.0021     0.0003    -6.1628   0.0000   -0.0027   -0.0014\n",
       "FI           -0.0004     0.0003    -1.2400   0.2150   -0.0011    0.0002\n",
       "DC           -0.0019     0.0002   -10.0813   0.0000   -0.0023   -0.0016\n",
       "MI            0.0010     0.0004     2.2113   0.0270    0.0001    0.0018\n",
       "---------------------------------------------------------------------\n",
       "Omnibus:            36611.291      Durbin-Watson:         1.987      \n",
       "Prob(Omnibus):      0.000          Jarque-Bera (JB):      2519288.922\n",
       "Skew:               0.610          Prob(JB):              0.000      \n",
       "Kurtosis:           25.501         Condition No.:         12         \n",
       "=====================================================================\n",
       "\n",
       "\"\"\""
      ]
     },
     "execution_count": 27,
     "metadata": {},
     "output_type": "execute_result"
    }
   ],
   "source": [
    "def smf_ols_model(data,fac):\n",
    "    eqn = \"ForwardReturns ~ \" + \" + \".join(fac)\n",
    "    smf_model = smf.ols(eqn,data=data).fit()\n",
    "    return smf_model\n",
    "\n",
    "model = smf_ols_model(dfTrain,finalFactors)\n",
    "model.summary2()"
   ]
  },
  {
   "cell_type": "code",
   "execution_count": 28,
   "metadata": {},
   "outputs": [
    {
     "name": "stdout",
     "output_type": "stream",
     "text": [
      "Rsq:  0.0012474968425102428\n",
      "\n",
      "Standard Error\n",
      "Intercept    0.000292\n",
      "KAMA         0.000334\n",
      "FI           0.000338\n",
      "DC           0.000193\n",
      "MI           0.000441\n",
      "dtype: float64\n",
      "\n",
      "MSR reduced residuals:  0.0003905887648550613\n",
      "Mean:  -3.000338795846514e-17\n",
      "Std:  0.019762903714040773\n",
      "Forward Returns STD:  0.019775325380459438\n"
     ]
    }
   ],
   "source": [
    "print(\"Rsq: \",model.rsquared)\n",
    "print(\"\")\n",
    "print(\"Standard Error\")\n",
    "print(model.bse)\n",
    "print(\"\")\n",
    "residuals = model.resid\n",
    "msr_reduced = sum(residuals**2)/(len(residuals)-5)\n",
    "print(\"MSR reduced residuals: \",msr_reduced)\n",
    "print(\"Mean: \",np.mean(residuals))\n",
    "print(\"Std: \",np.std(residuals) )\n",
    "print(\"Forward Returns STD: \",dfTrain[\"ForwardReturns\"].std())"
   ]
  },
  {
   "cell_type": "markdown",
   "metadata": {},
   "source": [
    "### Out of Sample Results"
   ]
  },
  {
   "cell_type": "code",
   "execution_count": 29,
   "metadata": {},
   "outputs": [],
   "source": [
    "dfTest = combine_factors(finalFactors,test,tickerlist)"
   ]
  },
  {
   "cell_type": "code",
   "execution_count": 30,
   "metadata": {},
   "outputs": [],
   "source": [
    "test_predict = model.predict(dfTest[finalFactors])\n",
    "residuals = dfTest.ForwardReturns-test_predict"
   ]
  },
  {
   "cell_type": "code",
   "execution_count": 31,
   "metadata": {},
   "outputs": [
    {
     "name": "stdout",
     "output_type": "stream",
     "text": [
      "MSR reduced residuals:  0.00028012149868818394\n",
      "Mean:  0.0005421424046533771\n",
      "Std:  0.016727020166785123\n",
      "Forward Returns STD:  0.0167406031662719\n"
     ]
    }
   ],
   "source": [
    "msr_reduced = sum(residuals**2)/(len(residuals)-5)\n",
    "print(\"MSR reduced residuals: \",msr_reduced)\n",
    "print(\"Mean: \",np.mean(residuals))\n",
    "print(\"Std: \",np.std(residuals) )\n",
    "print(\"Forward Returns STD: \",dfTest[\"ForwardReturns\"].std())"
   ]
  },
  {
   "cell_type": "code",
   "execution_count": 32,
   "metadata": {},
   "outputs": [
    {
     "data": {
      "text/plain": [
       "Text(0, 0.5, 'Observation Count')"
      ]
     },
     "execution_count": 32,
     "metadata": {},
     "output_type": "execute_result"
    },
    {
     "data": {
      "image/png": "[encoded data removed]",
      "text/plain": [
       "<Figure size 720x432 with 1 Axes>"
      ]
     },
     "metadata": {},
     "output_type": "display_data"
    }
   ],
   "source": [
    "residuals.hist(bins=50,range=(-.075,.075),figsize=(10,6))\n",
    "plt.axvline(x=0,color=\"red\")\n",
    "plt.xlabel(\"Residuals\")\n",
    "plt.ylabel(\"Observation Count\")"
   ]
  },
  {
   "cell_type": "code",
   "execution_count": 33,
   "metadata": {},
   "outputs": [],
   "source": [
    "def calc_signal(model,fac,dict_train,dict_test,dict_backtest,tickerlist=tickerlist):\n",
    "    \"\"\"\n",
    "    dict_test: dict of dataframes for each ticker containing factors and ForwardReturns\n",
    "    \"\"\"\n",
    "    train_signals = {}\n",
    "    test_signals = {}\n",
    "    backtest_signals = {}\n",
    "    for ticker in tickerlist:\n",
    "        df_train = dict_train[ticker].copy()\n",
    "        df_test = dict_test[ticker].copy()\n",
    "        df_backtest = dict_backtest[ticker].copy()\n",
    "        train_signals[ticker] = model.predict(df_train[fac])\n",
    "        test_signals[ticker] = model.predict(df_test[fac])\n",
    "        backtest_signals[ticker] = model.predict(df_backtest[fac])\n",
    "    train_signals = pd.DataFrame(train_signals,index=df_train.index)\n",
    "    test_signals = pd.DataFrame(test_signals,index=df_test.index)\n",
    "    backtest_signals = pd.DataFrame(backtest_signals,index=df_backtest.index)\n",
    "    return train_signals,test_signals,backtest_signals\n",
    "\n",
    "train_signals,test_signals,backtest_signals = calc_signal(model,\n",
    "                                                          finalFactors,train,test,backtest,tickerlist)"
   ]
  },
  {
   "cell_type": "markdown",
   "metadata": {},
   "source": [
    "### Risk Model and Transaction Model"
   ]
  },
  {
   "cell_type": "code",
   "execution_count": 34,
   "metadata": {},
   "outputs": [],
   "source": [
    "def compileWeight(all_data,backtest_signals,tickerlist,scale):\n",
    "    close = {}\n",
    "    annVol = {}\n",
    "    cost = {}\n",
    "    signal = {}\n",
    "    for ticker in tickerlist:\n",
    "        temp = all_data[ticker][[\"Close\",\"Volume\"]].copy()\n",
    "        temp[\"Returns\"] = temp.Close.pct_change()\n",
    "        temp[\"MDV21\"] = temp.Volume.rolling(21).median()\n",
    "        temp[\"AnnVol\"] = temp.Returns.rolling(252).std()*np.sqrt(252)*100\n",
    "        temp[\"Cost\"] = 0.004*temp.AnnVol/temp.MDV21\n",
    "        temp[\"Signal\"] = backtest_signals[ticker]\n",
    "        temp = temp[[\"Close\",\"AnnVol\",\"Cost\",\"Signal\"]][\"2018\":\"2020\"]\n",
    "        close[ticker] = temp.Close\n",
    "        annVol[ticker] = temp.AnnVol\n",
    "        cost[ticker] = temp.Cost\n",
    "        signal[ticker] = temp.Signal\n",
    "    close = pd.DataFrame(close)\n",
    "    annVol = pd.DataFrame(annVol)\n",
    "    annVol = annVol**(-scale)\n",
    "    annVol = annVol.div(annVol.sum(axis=1),axis=0)\n",
    "    cost = pd.DataFrame(cost)\n",
    "    costWeight = cost**(-scale)\n",
    "    costWeight = costWeight.div(costWeight.sum(axis=1),axis=0)\n",
    "    signal = pd.DataFrame(signal)\n",
    "    signal = np.abs(signal)**(scale)\n",
    "    signal = signal.div(signal.sum(axis=1),axis=0)\n",
    "    return close,annVol,cost,costWeight,signal"
   ]
  },
  {
   "cell_type": "code",
   "execution_count": 35,
   "metadata": {},
   "outputs": [],
   "source": [
    "scale = 2\n",
    "close,annVolWeight,costs,costWeight,signalWeight = compileWeight(all_data,backtest_signals,tickerlist,scale)\n",
    "unweighted = pd.DataFrame([[1/costWeight.shape[1]]*costWeight.shape[1]]*costWeight.shape[0],\n",
    "             index=costWeight.index,columns=costWeight.columns)\n",
    "_,_,_,_,sigWeight2 = compileWeight(all_data,backtest_signals,tickerlist,10)"
   ]
  },
  {
   "cell_type": "markdown",
   "metadata": {},
   "source": [
    "## Backtest"
   ]
  },
  {
   "cell_type": "code",
   "execution_count": 36,
   "metadata": {},
   "outputs": [],
   "source": [
    "def weightedTrader(initial_value,signals,weights,close=close,costs=costs):\n",
    "    signals = np.sign(backtest_signals)\n",
    "    rets = close.pct_change()\n",
    "\n",
    "    portfolioValue = [initial_value]\n",
    "    positions = [signals.iloc[0]*weights.iloc[0]*portfolioValue[0]] # dollars invested in each stock\n",
    "    transactionCosts = [(positions[0].abs()*costs.iloc[0]).sum()] # dollar amount of transaction cost\n",
    "    weightedReturns = [[0]*len(tickerlist)]\n",
    "    portfolioRet = [0]\n",
    "    \n",
    "    for i in range(1,len(signals)):\n",
    "        portReturn = ((rets.iloc[i]*positions[i-1]).sum()-transactionCosts[i-1])/portfolioValue[i-1]\n",
    "        portfolioRet.append(portReturn)\n",
    "        portfolioValue.append(portfolioValue[i-1]*(1+portReturn)) # new total portfolio value after subtracting trading costs\n",
    "        positions.append(signals.iloc[i]*weights.iloc[i]*portfolioValue[i]) # reweighted positions\n",
    "        positionChange = (positions[i]-positions[i-1]).abs() # dollar change in position for each stock\n",
    "        transactionCosts.append((positionChange*costs.iloc[i]).sum()) # calc transaction cost to achieve new position\n",
    "    df = pd.DataFrame({\"PortfolioValue\":portfolioValue,\"TransactionCosts\":transactionCosts,\n",
    "                   \"PortfolioReturns\":portfolioRet},index=close.index[:-1])\n",
    "    positions = pd.DataFrame(positions)\n",
    "    return df,df.PortfolioValue,positions"
   ]
  },
  {
   "cell_type": "code",
   "execution_count": 37,
   "metadata": {},
   "outputs": [],
   "source": [
    "initial_value = 100000000 # $100,000,000 million\n",
    "_,unweightedValue,_ = weightedTrader(initial_value,backtest_signals,unweighted)\n",
    "_,signalValue,pos = weightedTrader(initial_value,backtest_signals,signalWeight)\n",
    "_,annVolValue,_ = weightedTrader(initial_value,backtest_signals,annVolWeight)\n",
    "_,costValue,pos = weightedTrader(initial_value,backtest_signals,costWeight)"
   ]
  },
  {
   "cell_type": "code",
   "execution_count": 38,
   "metadata": {},
   "outputs": [
    {
     "name": "stdout",
     "output_type": "stream",
     "text": [
      "[*********************100%***********************]  1 of 1 completed\n"
     ]
    }
   ],
   "source": [
    "NDX = yf.download(\"^NDX\")[\"Adj Close\"].loc[backtest_signals.index]\n",
    "NDX = NDX*initial_value/NDX[0]\n",
    "df = pd.DataFrame({\"UnweightedStrategy\":unweightedValue,\"SignalWeightedStrategy\":signalValue,\n",
    "                   \"VolatilityWeightedStrategy\":annVolValue,\"CostWeightedStrategy\":costValue,\"NDX\":NDX})"
   ]
  },
  {
   "cell_type": "code",
   "execution_count": 39,
   "metadata": {
    "scrolled": false
   },
   "outputs": [
    {
     "data": {
      "text/plain": [
       "Text(0, 0.5, 'Portfolio Value')"
      ]
     },
     "execution_count": 39,
     "metadata": {},
     "output_type": "execute_result"
    },
    {
     "data": {
      "image/png": "[encoded data removed]",
      "text/plain": [
       "<Figure size 720x432 with 1 Axes>"
      ]
     },
     "metadata": {},
     "output_type": "display_data"
    }
   ],
   "source": [
    "df.plot(figsize=(10,6))\n",
    "plt.ylabel(\"Portfolio Value\")"
   ]
  },
  {
   "cell_type": "code",
   "execution_count": 40,
   "metadata": {
    "scrolled": false
   },
   "outputs": [
    {
     "data": {
      "text/plain": [
       "Text(0, 0.5, 'Portfolio Value')"
      ]
     },
     "execution_count": 40,
     "metadata": {},
     "output_type": "execute_result"
    },
    {
     "data": {
      "image/png": "[encoded data removed]",
      "text/plain": [
       "<Figure size 720x432 with 1 Axes>"
      ]
     },
     "metadata": {},
     "output_type": "display_data"
    }
   ],
   "source": [
    "_,_,_,_,sigWeight2 = compileWeight(all_data,backtest_signals,tickerlist,10)\n",
    "_,sig2,_ = weightedTrader(initial_value,backtest_signals,sigWeight2)\n",
    "NDX = NDX*initial_value/NDX[0]\n",
    "df2 = pd.DataFrame({\"ImprovedSignalWeightedStrategy\":sig2,\"SignalWeightedStrategy\":signalValue,\"NDX\":NDX})\n",
    "df2.plot(figsize=(10,6))\n",
    "plt.ylabel(\"Portfolio Value\")"
   ]
  },
  {
   "cell_type": "code",
   "execution_count": 41,
   "metadata": {},
   "outputs": [],
   "source": [
    "df = pd.DataFrame({\"UnweightedStrategy\":unweightedValue,\"SignalWeightedStrategy\":signalValue,\n",
    "                   \"VolatilityWeightedStrategy\":annVolValue,\n",
    "                   \"ImprovedSignalWeightedStrategy\":sig2,\"NDX\":NDX})\n",
    "R = df.pct_change()"
   ]
  },
  {
   "cell_type": "markdown",
   "metadata": {},
   "source": [
    "### Performance Metrics"
   ]
  },
  {
   "cell_type": "code",
   "execution_count": 42,
   "metadata": {},
   "outputs": [],
   "source": [
    "all_ratios = []\n",
    "for strat in R.columns:\n",
    "    ratios = []\n",
    "    r = R[strat].dropna()\n",
    "    ratios.append(ep.annual_return(r))\n",
    "    ratios.append(ep.annual_volatility(r))\n",
    "    ratios.append(ep.max_drawdown(r))\n",
    "    ratios.append(ep.sharpe_ratio(r))\n",
    "    ratios.append(ep.sortino_ratio(r))\n",
    "    all_ratios.append(ratios)"
   ]
  },
  {
   "cell_type": "code",
   "execution_count": 43,
   "metadata": {},
   "outputs": [
    {
     "data": {
      "text/html": [
       "<div>\n",
       "<style scoped>\n",
       "    .dataframe tbody tr th:only-of-type {\n",
       "        vertical-align: middle;\n",
       "    }\n",
       "\n",
       "    .dataframe tbody tr th {\n",
       "        vertical-align: top;\n",
       "    }\n",
       "\n",
       "    .dataframe thead th {\n",
       "        text-align: right;\n",
       "    }\n",
       "</style>\n",
       "<table border=\"1\" class=\"dataframe\">\n",
       "  <thead>\n",
       "    <tr style=\"text-align: right;\">\n",
       "      <th></th>\n",
       "      <th>Annualized Return</th>\n",
       "      <th>Annualized Volatility</th>\n",
       "      <th>Max Drawdown</th>\n",
       "      <th>Sharpe Ratio</th>\n",
       "      <th>Sortino Ratio</th>\n",
       "    </tr>\n",
       "  </thead>\n",
       "  <tbody>\n",
       "    <tr>\n",
       "      <th>UnweightedStrategy</th>\n",
       "      <td>0.120028</td>\n",
       "      <td>0.186161</td>\n",
       "      <td>-0.189854</td>\n",
       "      <td>0.701994</td>\n",
       "      <td>1.054687</td>\n",
       "    </tr>\n",
       "    <tr>\n",
       "      <th>SignalWeightedStrategy</th>\n",
       "      <td>0.205782</td>\n",
       "      <td>0.234772</td>\n",
       "      <td>-0.245483</td>\n",
       "      <td>0.914855</td>\n",
       "      <td>1.356375</td>\n",
       "    </tr>\n",
       "    <tr>\n",
       "      <th>VolatilityWeightedStrategy</th>\n",
       "      <td>0.101557</td>\n",
       "      <td>0.170904</td>\n",
       "      <td>-0.170633</td>\n",
       "      <td>0.651197</td>\n",
       "      <td>0.999119</td>\n",
       "    </tr>\n",
       "    <tr>\n",
       "      <th>ImprovedSignalWeightedStrategy</th>\n",
       "      <td>0.496557</td>\n",
       "      <td>0.304763</td>\n",
       "      <td>-0.246314</td>\n",
       "      <td>1.475781</td>\n",
       "      <td>2.274069</td>\n",
       "    </tr>\n",
       "    <tr>\n",
       "      <th>NDX</th>\n",
       "      <td>0.231970</td>\n",
       "      <td>0.268839</td>\n",
       "      <td>-0.280329</td>\n",
       "      <td>0.911354</td>\n",
       "      <td>1.270724</td>\n",
       "    </tr>\n",
       "  </tbody>\n",
       "</table>\n",
       "</div>"
      ],
      "text/plain": [
       "                                Annualized Return  Annualized Volatility  \\\n",
       "UnweightedStrategy                       0.120028               0.186161   \n",
       "SignalWeightedStrategy                   0.205782               0.234772   \n",
       "VolatilityWeightedStrategy               0.101557               0.170904   \n",
       "ImprovedSignalWeightedStrategy           0.496557               0.304763   \n",
       "NDX                                      0.231970               0.268839   \n",
       "\n",
       "                                Max Drawdown  Sharpe Ratio  Sortino Ratio  \n",
       "UnweightedStrategy                 -0.189854      0.701994       1.054687  \n",
       "SignalWeightedStrategy             -0.245483      0.914855       1.356375  \n",
       "VolatilityWeightedStrategy         -0.170633      0.651197       0.999119  \n",
       "ImprovedSignalWeightedStrategy     -0.246314      1.475781       2.274069  \n",
       "NDX                                -0.280329      0.911354       1.270724  "
      ]
     },
     "execution_count": 43,
     "metadata": {},
     "output_type": "execute_result"
    }
   ],
   "source": [
    "metrics =pd.DataFrame(all_ratios,columns=[\"Annualized Return\",\"Annualized Volatility\",\n",
    "                                         \"Max Drawdown\",\"Sharpe Ratio\",\"Sortino Ratio\"],index=R.columns)\n",
    "metrics"
   ]
  }
 ],
 "metadata": {
  "kernelspec": {
   "display_name": "Python 3",
   "language": "python",
   "name": "python3"
  },
  "language_info": {
   "codemirror_mode": {
    "name": "ipython",
    "version": 3
   },
   "file_extension": ".py",
   "mimetype": "text/x-python",
   "name": "python",
   "nbconvert_exporter": "python",
   "pygments_lexer": "ipython3",
   "version": "3.8.3"
  }
 },
 "nbformat": 4,
 "nbformat_minor": 4
}
